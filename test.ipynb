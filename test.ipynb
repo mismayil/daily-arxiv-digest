{
 "cells": [
  {
   "cell_type": "code",
   "execution_count": null,
   "metadata": {},
   "outputs": [
    {
     "name": "stdout",
     "output_type": "stream",
     "text": [
      "['cs.CL']\n",
      "['cs.MM']\n",
      "['cs.AI', 'cs.CL', 'cs.LG']\n",
      "['cs.HC']\n",
      "['cs.DL']\n",
      "['cs.LG', 'cs.AI']\n",
      "['cs.CL', 'cs.AI', 'cs.HC']\n",
      "['cs.HC']\n",
      "['cs.CL', 'cs.AI']\n",
      "['cs.LG', 'stat.ML']\n",
      "['cs.HC', 'cs.RO']\n",
      "['cs.CL', 'cs.AI', 'cs.LG']\n",
      "['cs.LG', 'eess.SP']\n",
      "['cs.CL']\n",
      "['cs.HC', 'cs.AI']\n"
     ]
    }
   ],
   "source": [
    "from bs4 import BeautifulSoup as bs\n",
    "import urllib.request\n",
    "from datetime import datetime\n",
    "import re\n",
    "\n",
    "current_year = datetime.now().year\n",
    "sub_url = f\"https://arxiv.org/search/advanced?advanced=&terms-0-operator=AND&terms-0-term=creative&terms-0-field=all&terms-1-operator=OR&terms-1-term=creativity&terms-1-field=all&classification-computer_science=y&classification-physics_archives=all&classification-include_cross_list=include&date-year=&date-filter_by=date_range&date-from_date=2024-11-08&date-to_date=&date-date_type=announced_date_first&abstracts=show&size=200&order=-announced_date_first\"\n",
    "page = urllib.request.urlopen(sub_url)\n",
    "soup = bs(page)\n",
    "content = soup.body.find(\"div\", {\"class\": \"content\"})\n",
    "\n",
    "# issue_title = content.find(\"h3\").text\n",
    "# dt_list = content.dl.find_all(\"dt\")\n",
    "# dd_list = content.dl.find_all(\"dd\")\n",
    "# arxiv_base = \"https://arxiv.org/abs/\"\n",
    "result_list = content.find_all(\"li\", {\"class\": \"arxiv-result\"})\n",
    "for result in result_list:\n",
    "    title = result.find(\"p\", {\"class\": \"title is-5 mathjax\"}).text\n",
    "    authors = result.find(\"p\", {\"class\": \"authors\"}).text\n",
    "    abstract = result.find(\"p\", {\"class\": \"abstract mathjax\"}).text\n",
    "    paper_number = result.find(\"p\", {\"class\": \"list-title\"}).text\n",
    "    tags = [(tag[\"data-tooltip\"], tag.text) for tag in result.find(\"div\", {\"class\": \"tags\"}).find_all(\"span\")]\n",
    "    print(tags)\n",
    "    # # print(title)\n",
    "    # # print(authors)\n",
    "    # # print(abstract)\n",
    "    # print(paper_number)\n",
    "    # # Extract arXiv number using regex\n",
    "    # match = re.search(r'arXiv:\\d+\\.\\d+(v\\d+)?', paper_number)\n",
    "    # if match:\n",
    "    #     arxiv_number = match.group(0)\n",
    "    #     print(arxiv_number)"
   ]
  },
  {
   "cell_type": "code",
   "execution_count": 3,
   "metadata": {},
   "outputs": [],
   "source": [
    "content.find(\"h3\")"
   ]
  }
 ],
 "metadata": {
  "kernelspec": {
   "display_name": "Python 3",
   "language": "python",
   "name": "python3"
  },
  "language_info": {
   "codemirror_mode": {
    "name": "ipython",
    "version": 3
   },
   "file_extension": ".py",
   "mimetype": "text/x-python",
   "name": "python",
   "nbconvert_exporter": "python",
   "pygments_lexer": "ipython3",
   "version": "3.10.14"
  }
 },
 "nbformat": 4,
 "nbformat_minor": 2
}
